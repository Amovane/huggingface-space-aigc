{
 "cells": [
  {
   "cell_type": "code",
   "execution_count": 2,
   "metadata": {},
   "outputs": [
    {
     "name": "stdout",
     "output_type": "stream",
     "text": [
      "Running on local URL:  http://127.0.0.1:7861\n",
      "\n",
      "To create a public link, set `share=True` in `launch()`.\n"
     ]
    },
    {
     "data": {
      "text/html": [
       "<div><iframe src=\"http://127.0.0.1:7861/\" width=\"100%\" height=\"500\" allow=\"autoplay; camera; microphone; clipboard-read; clipboard-write;\" frameborder=\"0\" allowfullscreen></iframe></div>"
      ],
      "text/plain": [
       "<IPython.core.display.HTML object>"
      ]
     },
     "metadata": {},
     "output_type": "display_data"
    },
    {
     "data": {
      "text/plain": []
     },
     "execution_count": 2,
     "metadata": {},
     "output_type": "execute_result"
    }
   ],
   "source": [
    "import os\n",
    "import gradio as gr\n",
    "import requests\n",
    "%env OPENAI_KEY\n",
    "openai_key = os.getenv(\"OPENAI_KEY\")\n",
    "\n",
    "def ganerate(prompt):\n",
    "    n = 1\n",
    "    size = \"512x512\"\n",
    "    data = {\"n\": n, \"prompt\": prompt, \"size\": size}\n",
    "    headers = {\"Content-Type\": \"application/json\",\n",
    "               \"Authorization\": f\"\"\"Bearer {openai_key}\"\"\"}\n",
    "    result = requests.post(\n",
    "        \"https://api.openai.com/v1/images/generations\", json=data, headers=headers)\n",
    "    return result.json()[\"data\"][0][\"url\"]\n",
    "\n",
    "iface = gr.Interface(\n",
    "    fn=ganerate,\n",
    "    inputs=[\n",
    "        gr.Textbox(placeholder=\"Prompt\", label=\"Prompt\"),\n",
    "    ],\n",
    "    outputs=\"image\")\n",
    "iface.launch()\n"
   ]
  }
 ],
 "metadata": {
  "kernelspec": {
   "display_name": "venv",
   "language": "python",
   "name": "python3"
  },
  "language_info": {
   "codemirror_mode": {
    "name": "ipython",
    "version": 3
   },
   "file_extension": ".py",
   "mimetype": "text/x-python",
   "name": "python",
   "nbconvert_exporter": "python",
   "pygments_lexer": "ipython3",
   "version": "3.11.2"
  },
  "orig_nbformat": 4
 },
 "nbformat": 4,
 "nbformat_minor": 2
}
